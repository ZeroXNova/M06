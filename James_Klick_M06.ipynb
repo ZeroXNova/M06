{
 "cells": [
  {
   "cell_type": "code",
   "execution_count": 11,
   "id": "38024a48-26d8-4df0-8c0f-2ba44a6c464b",
   "metadata": {},
   "outputs": [],
   "source": [
    "#13.1\n",
    "from datetime import datetime\n",
    "now = datetime.now()\n",
    "date = now.strftime(\"%m/%d/%Y\")\n",
    "\n",
    "f = open(\"today.txt\",\"w\")\n",
    "f.write(date)\n",
    "f.close()"
   ]
  },
  {
   "cell_type": "code",
   "execution_count": 15,
   "id": "7d9e922c-3c49-4286-a35b-92f325432f34",
   "metadata": {},
   "outputs": [],
   "source": [
    "#13.2\n",
    "f = open(\"today.txt\",\"r\")\n",
    "today_string = f.read()"
   ]
  },
  {
   "cell_type": "code",
   "execution_count": 31,
   "id": "4e56a6fe-e71b-4aa4-8efd-31c6d2a59391",
   "metadata": {
    "scrolled": true
   },
   "outputs": [
    {
     "name": "stdout",
     "output_type": "stream",
     "text": [
      "2024-09-29 00:00:00\n"
     ]
    }
   ],
   "source": [
    "#13.3\n",
    "newDate = datetime.strptime(today_string,\"%m/%d/%Y\")\n",
    "print(newDate)"
   ]
  },
  {
   "cell_type": "code",
   "execution_count": 47,
   "id": "fa12e2ab-28d2-4a46-bf18-990bd819161f",
   "metadata": {},
   "outputs": [],
   "source": [
    "#15.1\n",
    "import multiprocessing\n",
    "import time\n",
    "import random\n",
    "\n",
    "\n",
    "\n",
    "def timeNow():\n",
    "    wait=random.randint(0,1)\n",
    "    time.sleep(wait)\n",
    "    now = time.time()\n",
    "    print(time.ctime(now)) \n",
    "\n",
    "if __name__ == \"__main__\":\n",
    "    for n in range(3):\n",
    "        m = multiprocessing.Process(target=timeNow)\n",
    "        m.start()\n",
    "    "
   ]
  }
 ],
 "metadata": {
  "kernelspec": {
   "display_name": "Python 3 (ipykernel)",
   "language": "python",
   "name": "python3"
  },
  "language_info": {
   "codemirror_mode": {
    "name": "ipython",
    "version": 3
   },
   "file_extension": ".py",
   "mimetype": "text/x-python",
   "name": "python",
   "nbconvert_exporter": "python",
   "pygments_lexer": "ipython3",
   "version": "3.12.4"
  }
 },
 "nbformat": 4,
 "nbformat_minor": 5
}
